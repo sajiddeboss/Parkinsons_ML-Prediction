{
  "nbformat": 4,
  "nbformat_minor": 0,
  "metadata": {
    "colab": {
      "name": "MalariaCNN.ipynb",
      "provenance": [],
      "authorship_tag": "ABX9TyO/faXOfKdWidrkHITb+9hi",
      "include_colab_link": true
    },
    "kernelspec": {
      "name": "python3",
      "display_name": "Python 3"
    }
  },
  "cells": [
    {
      "cell_type": "markdown",
      "metadata": {
        "id": "view-in-github",
        "colab_type": "text"
      },
      "source": [
        "<a href=\"https://colab.research.google.com/github/sajiddeboss/Parkinsons_ML-Prediction/blob/master/MalariaCNN.ipynb\" target=\"_parent\"><img src=\"https://colab.research.google.com/assets/colab-badge.svg\" alt=\"Open In Colab\"/></a>"
      ]
    },
    {
      "cell_type": "code",
      "metadata": {
        "id": "HM0ji6LAyO9I",
        "colab_type": "code",
        "colab": {}
      },
      "source": [
        "#Importing Necessary Libraries.\n",
        "from PIL import Image\n",
        "import numpy as np\n",
        "import os\n",
        "import cv2\n",
        "import keras\n",
        "from keras.utils import np_utils\n",
        "from keras.models import Sequential\n",
        "from keras.layers import Conv2D,MaxPooling2D,Dense,Flatten"
      ],
      "execution_count": 2,
      "outputs": []
    },
    {
      "cell_type": "code",
      "metadata": {
        "id": "6HpBl1u8yh6r",
        "colab_type": "code",
        "colab": {}
      },
      "source": [
        "\n",
        "data=[]\n",
        "labels=[]\n",
        "Parasitized=os.listdir('/content/cell_images/Parasitized/') \n",
        "for a in Parasitized:\n",
        "    try:\n",
        "        image=cv2.imread(\"/content/cell_images/Parasitized/\"+a)\n",
        "        image_from_array = Image.fromarray(image, 'RGB')\n",
        "        size_image = image_from_array.resize((64, 64))\n",
        "        data.append(np.array(size_image))\n",
        "        labels.append(1)\n",
        "    except AttributeError:\n",
        "        print(\"\")\n",
        "\n",
        "Uninfected= os.listdir('/content/cell_images/Uninfected/')\n",
        "for b in Uninfected:\n",
        "    try:\n",
        "        image=cv2.imread(\"/content/cell_images/Uninfected/\"+b)\n",
        "        image_from_array = Image.fromarray(image, 'RGB')\n",
        "        size_image = image_from_array.resize((64, 64))\n",
        "        data.append(np.array(size_image))\n",
        "        labels.append(0)\n",
        "    except AttributeError:\n",
        "        print(\"\")"
      ],
      "execution_count": 3,
      "outputs": []
    },
    {
      "cell_type": "code",
      "metadata": {
        "id": "FPG9XIaeMTtJ",
        "colab_type": "code",
        "colab": {}
      },
      "source": [
        "Cells=np.array(data)\n",
        "labels=np.array(labels)\n",
        "s=np.arange(Cells.shape[0])\n",
        "np.random.shuffle(s)\n",
        "Cells=Cells[s]\n",
        "labels=labels[s]\n",
        "num_classes=len(np.unique(labels))\n",
        "len_data=len(Cells)"
      ],
      "execution_count": 4,
      "outputs": []
    },
    {
      "cell_type": "code",
      "metadata": {
        "id": "ZQmq4560Mc6z",
        "colab_type": "code",
        "colab": {}
      },
      "source": [
        "(x_train,x_test)=Cells[(int)(0.1*len_data):],Cells[:(int)(0.1*len_data)]\n",
        "x_train = x_train.astype('float32')/255 # As we are working on image data we are normalizing data by divinding 255.\n",
        "x_test = x_test.astype('float32')/255\n",
        "train_len=len(x_train)\n",
        "test_len=len(x_test)"
      ],
      "execution_count": 5,
      "outputs": []
    },
    {
      "cell_type": "code",
      "metadata": {
        "id": "AX-i_-IlMft_",
        "colab_type": "code",
        "colab": {}
      },
      "source": [
        "(y_train,y_test)=labels[(int)(0.1*len_data):],labels[:(int)(0.1*len_data)]\n",
        "#Doing One hot encoding as classifier has multiple classes\n",
        "y_train=keras.utils.to_categorical(y_train,num_classes)\n",
        "y_test=keras.utils.to_categorical(y_test,num_classes)"
      ],
      "execution_count": 6,
      "outputs": []
    },
    {
      "cell_type": "code",
      "metadata": {
        "id": "P44XC2K6zUcN",
        "colab_type": "code",
        "colab": {
          "base_uri": "https://localhost:8080/",
          "height": 433
        },
        "outputId": "f29fc1a3-f44f-47dc-bfa1-50822dea9b63"
      },
      "source": [
        "model=Sequential()\n",
        "model.add(Conv2D(filters=6,kernel_size=2,padding=\"same\",activation=\"relu\",input_shape=(64,64,3)))\n",
        "model.add(MaxPooling2D(pool_size=2))\n",
        "model.add(Conv2D(filters=16,kernel_size=2,padding=\"same\",activation=\"relu\"))\n",
        "model.add(MaxPooling2D(pool_size=2))\n",
        "model.add(Flatten())\n",
        "model.add(Dense(120,activation=\"relu\"))\n",
        "model.add(Dense(84,activation=\"relu\"))\n",
        "model.add(Dense(2,activation=\"softmax\"))#2 represent output layer neurons \n",
        "model.summary()"
      ],
      "execution_count": 7,
      "outputs": [
        {
          "output_type": "stream",
          "text": [
            "Model: \"sequential\"\n",
            "_________________________________________________________________\n",
            "Layer (type)                 Output Shape              Param #   \n",
            "=================================================================\n",
            "conv2d (Conv2D)              (None, 64, 64, 6)         78        \n",
            "_________________________________________________________________\n",
            "max_pooling2d (MaxPooling2D) (None, 32, 32, 6)         0         \n",
            "_________________________________________________________________\n",
            "conv2d_1 (Conv2D)            (None, 32, 32, 16)        400       \n",
            "_________________________________________________________________\n",
            "max_pooling2d_1 (MaxPooling2 (None, 16, 16, 16)        0         \n",
            "_________________________________________________________________\n",
            "flatten (Flatten)            (None, 4096)              0         \n",
            "_________________________________________________________________\n",
            "dense (Dense)                (None, 120)               491640    \n",
            "_________________________________________________________________\n",
            "dense_1 (Dense)              (None, 84)                10164     \n",
            "_________________________________________________________________\n",
            "dense_2 (Dense)              (None, 2)                 170       \n",
            "=================================================================\n",
            "Total params: 502,452\n",
            "Trainable params: 502,452\n",
            "Non-trainable params: 0\n",
            "_________________________________________________________________\n"
          ],
          "name": "stdout"
        }
      ]
    },
    {
      "cell_type": "code",
      "metadata": {
        "id": "TPw9NiX61hiJ",
        "colab_type": "code",
        "colab": {}
      },
      "source": [
        "# compile the model with loss as categorical_crossentropy and using adam optimizer you can test result by trying RMSProp as well as Momentum\n",
        "model.compile(loss='categorical_crossentropy', optimizer='adam', metrics=['accuracy'])"
      ],
      "execution_count": 8,
      "outputs": []
    },
    {
      "cell_type": "code",
      "metadata": {
        "id": "cY2o9kdu3mZw",
        "colab_type": "code",
        "colab": {
          "base_uri": "https://localhost:8080/",
          "height": 728
        },
        "outputId": "0ed31ff5-36ef-4281-f7da-d9490bc7b51f"
      },
      "source": [
        "#Fit the model with min batch size as 50[can tune batch size to some factor of 2^power ] \n",
        "model.fit(x_train,y_train,batch_size=50,epochs=20,verbose=1)"
      ],
      "execution_count": 9,
      "outputs": [
        {
          "output_type": "stream",
          "text": [
            "Epoch 1/20\n",
            "497/497 [==============================] - 42s 85ms/step - loss: 0.6075 - accuracy: 0.6605\n",
            "Epoch 2/20\n",
            "497/497 [==============================] - 42s 85ms/step - loss: 0.4911 - accuracy: 0.7627\n",
            "Epoch 3/20\n",
            "497/497 [==============================] - 42s 85ms/step - loss: 0.3144 - accuracy: 0.8705\n",
            "Epoch 4/20\n",
            "497/497 [==============================] - 43s 86ms/step - loss: 0.1941 - accuracy: 0.9258\n",
            "Epoch 5/20\n",
            "497/497 [==============================] - 42s 85ms/step - loss: 0.1388 - accuracy: 0.9500\n",
            "Epoch 6/20\n",
            "497/497 [==============================] - 44s 88ms/step - loss: 0.1033 - accuracy: 0.9648\n",
            "Epoch 7/20\n",
            "497/497 [==============================] - 43s 87ms/step - loss: 0.0762 - accuracy: 0.9736\n",
            "Epoch 8/20\n",
            "497/497 [==============================] - 42s 85ms/step - loss: 0.0548 - accuracy: 0.9807\n",
            "Epoch 9/20\n",
            "497/497 [==============================] - 42s 85ms/step - loss: 0.0366 - accuracy: 0.9878\n",
            "Epoch 10/20\n",
            "497/497 [==============================] - 43s 86ms/step - loss: 0.0243 - accuracy: 0.9914\n",
            "Epoch 11/20\n",
            "497/497 [==============================] - 43s 86ms/step - loss: 0.0238 - accuracy: 0.9919\n",
            "Epoch 12/20\n",
            "497/497 [==============================] - 42s 85ms/step - loss: 0.0142 - accuracy: 0.9955\n",
            "Epoch 13/20\n",
            "497/497 [==============================] - 42s 85ms/step - loss: 0.0131 - accuracy: 0.9952\n",
            "Epoch 14/20\n",
            "497/497 [==============================] - 42s 85ms/step - loss: 0.0133 - accuracy: 0.9953\n",
            "Epoch 15/20\n",
            "497/497 [==============================] - 42s 85ms/step - loss: 0.0097 - accuracy: 0.9974\n",
            "Epoch 16/20\n",
            "497/497 [==============================] - 42s 85ms/step - loss: 0.0067 - accuracy: 0.9977\n",
            "Epoch 17/20\n",
            "497/497 [==============================] - 42s 84ms/step - loss: 0.0138 - accuracy: 0.9955\n",
            "Epoch 18/20\n",
            "497/497 [==============================] - 42s 84ms/step - loss: 0.0095 - accuracy: 0.9966\n",
            "Epoch 19/20\n",
            "497/497 [==============================] - 42s 86ms/step - loss: 0.0032 - accuracy: 0.9991\n",
            "Epoch 20/20\n",
            "497/497 [==============================] - 41s 83ms/step - loss: 0.0203 - accuracy: 0.9937\n"
          ],
          "name": "stdout"
        },
        {
          "output_type": "execute_result",
          "data": {
            "text/plain": [
              "<tensorflow.python.keras.callbacks.History at 0x7f98b433a748>"
            ]
          },
          "metadata": {
            "tags": []
          },
          "execution_count": 9
        }
      ]
    },
    {
      "cell_type": "code",
      "metadata": {
        "id": "SBvV4Cau4B0r",
        "colab_type": "code",
        "colab": {
          "base_uri": "https://localhost:8080/",
          "height": 69
        },
        "outputId": "3070b108-0d68-4e2b-f539-1413cfb6509a"
      },
      "source": [
        "accuracy = model.evaluate(x_test, y_test, verbose=1)\n",
        "print('\\n', 'Test_Accuracy:-', accuracy[1])"
      ],
      "execution_count": 10,
      "outputs": [
        {
          "output_type": "stream",
          "text": [
            "87/87 [==============================] - 2s 28ms/step - loss: 0.3690 - accuracy: 0.9350\n",
            "\n",
            " Test_Accuracy:- 0.9350272417068481\n"
          ],
          "name": "stdout"
        }
      ]
    },
    {
      "cell_type": "code",
      "metadata": {
        "id": "VJ_i14zf41PS",
        "colab_type": "code",
        "colab": {}
      },
      "source": [
        "from keras.models import load_model\n",
        "model.save('cells.h5')"
      ],
      "execution_count": 11,
      "outputs": []
    },
    {
      "cell_type": "code",
      "metadata": {
        "id": "2ef-RNXMRbzS",
        "colab_type": "code",
        "colab": {}
      },
      "source": [
        ""
      ],
      "execution_count": null,
      "outputs": []
    }
  ]
}